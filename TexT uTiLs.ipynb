{
 "cells": [
  {
   "cell_type": "code",
   "execution_count": 1,
   "metadata": {
    "colab": {},
    "colab_type": "code",
    "id": "35JcQbK6tvN5"
   },
   "outputs": [],
   "source": [
    "import itertools\n",
    "import random as rand\n",
    "import string\n",
    "import re\n",
    "import numpy as np"
   ]
  },
  {
   "cell_type": "markdown",
   "metadata": {},
   "source": [
    "random_deletions randomly deletes some characters in an input string."
   ]
  },
  {
   "cell_type": "code",
   "execution_count": 2,
   "metadata": {
    "colab": {
     "base_uri": "https://localhost:8080/",
     "height": 187
    },
    "colab_type": "code",
    "id": "1HCLzr4Ct_Fs",
    "outputId": "e189222e-1d0f-42ad-b474-602bddd48bef"
   },
   "outputs": [
    {
     "name": "stdout",
     "output_type": "stream",
     "text": [
      "abcd\n",
      "bcd\n",
      "abcd\n",
      "abc\n",
      "b\n",
      "c\n",
      "abcd\n",
      "abcd\n",
      "d\n",
      "acd\n"
     ]
    }
   ],
   "source": [
    "def random_deletions(word):\n",
    "  for _ in  range(int(rand.random()*len(word))):\n",
    "    l = rand.choice(list(word))\n",
    "    word = word.replace(l,'')\n",
    "  return(word)\n",
    "    \n",
    "for _ in range(10):\n",
    "  print(random_deletions('abcd'))"
   ]
  },
  {
   "cell_type": "markdown",
   "metadata": {},
   "source": [
    "random_case randomly changes the case of some of the characters in the input string"
   ]
  },
  {
   "cell_type": "code",
   "execution_count": 3,
   "metadata": {
    "colab": {
     "base_uri": "https://localhost:8080/",
     "height": 187
    },
    "colab_type": "code",
    "id": "A1jq_TV_Z94m",
    "outputId": "1137cabd-6c01-446c-e45e-41b46a735800"
   },
   "outputs": [
    {
     "name": "stdout",
     "output_type": "stream",
     "text": [
      "aBCD\n",
      "abcd\n",
      "abcd\n",
      "abcd\n",
      "abCD\n",
      "abcd\n",
      "AbCD\n",
      "aBCD\n",
      "AbCd\n",
      "abCd\n"
     ]
    }
   ],
   "source": [
    "def random_case(word):\n",
    "  temp = word\n",
    "  for i in range(int(rand.random()*len(word))):\n",
    "    if len(temp) == 0:\n",
    "        continue\n",
    "    l = rand.choice(list(temp))\n",
    "    word = word.replace(l,l.swapcase())\n",
    "    temp = temp.replace(l, '')\n",
    "  return(word)\n",
    "\n",
    "for _ in range(10):\n",
    "  print(random_case('abcd'))"
   ]
  },
  {
   "cell_type": "markdown",
   "metadata": {},
   "source": [
    "word_perm_case returns all possible case permutations of an input string. For example, the permutations for the string 'ab' would be ['ab','AB','aB','Ab']"
   ]
  },
  {
   "cell_type": "code",
   "execution_count": 4,
   "metadata": {
    "colab": {
     "base_uri": "https://localhost:8080/",
     "height": 34
    },
    "colab_type": "code",
    "id": "FEhAjYtat0rt",
    "outputId": "7672a809-a873-4fe6-ae4a-fd58b4783c87"
   },
   "outputs": [
    {
     "name": "stdout",
     "output_type": "stream",
     "text": [
      "['ABCD', 'ABCd', 'ABcD', 'ABcd', 'AbCD', 'AbCd', 'AbcD', 'Abcd', 'aBCD', 'aBCd', 'aBcD', 'aBcd', 'abCD', 'abCd', 'abcD', 'abcd']\n"
     ]
    }
   ],
   "source": [
    "def word_perm_case(chars):\n",
    "  results = list(map(''.join, itertools.product(*zip(chars.upper(), chars.lower()))))\n",
    "  return(results)\n",
    "  \n",
    "print(word_perm_case('abcd'))"
   ]
  },
  {
   "cell_type": "markdown",
   "metadata": {},
   "source": [
    "onelettr_perm returns all permutations of an input string by changing exactly one character."
   ]
  },
  {
   "cell_type": "code",
   "execution_count": 5,
   "metadata": {
    "colab": {
     "base_uri": "https://localhost:8080/",
     "height": 54
    },
    "colab_type": "code",
    "id": "3OjKb6Kr0EEl",
    "outputId": "b2a606dc-e9ae-4d61-df45-5d6fa647d3bb"
   },
   "outputs": [
    {
     "name": "stdout",
     "output_type": "stream",
     "text": [
      "['abcd', 'bbcd', 'cbcd', 'dbcd', 'ebcd', 'fbcd', 'gbcd', 'hbcd', 'ibcd', 'jbcd', 'kbcd', 'lbcd', 'mbcd', 'nbcd', 'obcd', 'pbcd', 'qbcd', 'rbcd', 'sbcd', 'tbcd', 'ubcd', 'vbcd', 'wbcd', 'xbcd', 'ybcd', 'zbcd', 'aacd', 'accd', 'adcd', 'aecd', 'afcd', 'agcd', 'ahcd', 'aicd', 'ajcd', 'akcd', 'alcd', 'amcd', 'ancd', 'aocd', 'apcd', 'aqcd', 'arcd', 'ascd', 'atcd', 'aucd', 'avcd', 'awcd', 'axcd', 'aycd', 'azcd', 'abad', 'abbd', 'abdd', 'abed', 'abfd', 'abgd', 'abhd', 'abid', 'abjd', 'abkd', 'abld', 'abmd', 'abnd', 'abod', 'abpd', 'abqd', 'abrd', 'absd', 'abtd', 'abud', 'abvd', 'abwd', 'abxd', 'abyd', 'abzd', 'abca', 'abcb', 'abcc', 'abce', 'abcf', 'abcg', 'abch', 'abci', 'abcj', 'abck', 'abcl', 'abcm', 'abcn', 'abco', 'abcp', 'abcq', 'abcr', 'abcs', 'abct', 'abcu', 'abcv', 'abcw', 'abcx', 'abcy', 'abcz']\n"
     ]
    }
   ],
   "source": [
    "def onelettr_perm(word):\n",
    "  word_list = [word]\n",
    "  alphabets = string.ascii_lowercase\n",
    "  for i in range(len(word)):\n",
    "    for j in range(26):\n",
    "      temp = word\n",
    "      temp = temp.replace(temp[i], alphabets[j])\n",
    "      if(temp != word):\n",
    "        word_list.append(temp)\n",
    "  return(word_list)\n",
    "\n",
    "print(onelettr_perm('abcd'))"
   ]
  },
  {
   "cell_type": "markdown",
   "metadata": {},
   "source": [
    "gap_perm returns all permutations of an input string by inserting one character at any position in the string"
   ]
  },
  {
   "cell_type": "code",
   "execution_count": 6,
   "metadata": {
    "colab": {
     "base_uri": "https://localhost:8080/",
     "height": 54
    },
    "colab_type": "code",
    "id": "zbZRAmMi5Axn",
    "outputId": "ece9f63a-69cd-424c-b03b-5562c9c51e72"
   },
   "outputs": [
    {
     "name": "stdout",
     "output_type": "stream",
     "text": [
      "['abcd', 'aabcd', 'Aabcd', 'babcd', 'Babcd', 'cabcd', 'Cabcd', 'dabcd', 'Dabcd', 'eabcd', 'Eabcd', 'fabcd', 'Fabcd', 'gabcd', 'Gabcd', 'habcd', 'Habcd', 'iabcd', 'Iabcd', 'jabcd', 'Jabcd', 'kabcd', 'Kabcd', 'labcd', 'Labcd', 'mabcd', 'Mabcd', 'nabcd', 'Nabcd', 'oabcd', 'Oabcd', 'pabcd', 'Pabcd', 'qabcd', 'Qabcd', 'rabcd', 'Rabcd', 'sabcd', 'Sabcd', 'tabcd', 'Tabcd', 'uabcd', 'Uabcd', 'vabcd', 'Vabcd', 'wabcd', 'Wabcd', 'xabcd', 'Xabcd', 'yabcd', 'Yabcd', 'zabcd', 'Zabcd', 'aabcd', 'aAbcd', 'abbcd', 'aBbcd', 'acbcd', 'aCbcd', 'adbcd', 'aDbcd', 'aebcd', 'aEbcd', 'afbcd', 'aFbcd', 'agbcd', 'aGbcd', 'ahbcd', 'aHbcd', 'aibcd', 'aIbcd', 'ajbcd', 'aJbcd', 'akbcd', 'aKbcd', 'albcd', 'aLbcd', 'ambcd', 'aMbcd', 'anbcd', 'aNbcd', 'aobcd', 'aObcd', 'apbcd', 'aPbcd', 'aqbcd', 'aQbcd', 'arbcd', 'aRbcd', 'asbcd', 'aSbcd', 'atbcd', 'aTbcd', 'aubcd', 'aUbcd', 'avbcd', 'aVbcd', 'awbcd', 'aWbcd', 'axbcd', 'aXbcd', 'aybcd', 'aYbcd', 'azbcd', 'aZbcd', 'abacd', 'abAcd', 'abbcd', 'abBcd', 'abccd', 'abCcd', 'abdcd', 'abDcd', 'abecd', 'abEcd', 'abfcd', 'abFcd', 'abgcd', 'abGcd', 'abhcd', 'abHcd', 'abicd', 'abIcd', 'abjcd', 'abJcd', 'abkcd', 'abKcd', 'ablcd', 'abLcd', 'abmcd', 'abMcd', 'abncd', 'abNcd', 'abocd', 'abOcd', 'abpcd', 'abPcd', 'abqcd', 'abQcd', 'abrcd', 'abRcd', 'abscd', 'abScd', 'abtcd', 'abTcd', 'abucd', 'abUcd', 'abvcd', 'abVcd', 'abwcd', 'abWcd', 'abxcd', 'abXcd', 'abycd', 'abYcd', 'abzcd', 'abZcd', 'abcad', 'abcAd', 'abcbd', 'abcBd', 'abccd', 'abcCd', 'abcdd', 'abcDd', 'abced', 'abcEd', 'abcfd', 'abcFd', 'abcgd', 'abcGd', 'abchd', 'abcHd', 'abcid', 'abcId', 'abcjd', 'abcJd', 'abckd', 'abcKd', 'abcld', 'abcLd', 'abcmd', 'abcMd', 'abcnd', 'abcNd', 'abcod', 'abcOd', 'abcpd', 'abcPd', 'abcqd', 'abcQd', 'abcrd', 'abcRd', 'abcsd', 'abcSd', 'abctd', 'abcTd', 'abcud', 'abcUd', 'abcvd', 'abcVd', 'abcwd', 'abcWd', 'abcxd', 'abcXd', 'abcyd', 'abcYd', 'abczd', 'abcZd', 'abcda', 'abcdA', 'abcdb', 'abcdB', 'abcdc', 'abcdC', 'abcdd', 'abcdD', 'abcde', 'abcdE', 'abcdf', 'abcdF', 'abcdg', 'abcdG', 'abcdh', 'abcdH', 'abcdi', 'abcdI', 'abcdj', 'abcdJ', 'abcdk', 'abcdK', 'abcdl', 'abcdL', 'abcdm', 'abcdM', 'abcdn', 'abcdN', 'abcdo', 'abcdO', 'abcdp', 'abcdP', 'abcdq', 'abcdQ', 'abcdr', 'abcdR', 'abcds', 'abcdS', 'abcdt', 'abcdT', 'abcdu', 'abcdU', 'abcdv', 'abcdV', 'abcdw', 'abcdW', 'abcdx', 'abcdX', 'abcdy', 'abcdY', 'abcdz', 'abcdZ']\n"
     ]
    }
   ],
   "source": [
    "def gap_perm(word):\n",
    "  word_list = [word]\n",
    "  alphabets = string.ascii_lowercase\n",
    "  for j in range(0,26):\n",
    "    temp = word\n",
    "    temp = temp.replace(temp[0], alphabets[j]+temp[0])\n",
    "    word_list.append(temp)\n",
    "    temp = word\n",
    "    temp = temp.replace(temp[0], alphabets[j].upper()+temp[0])\n",
    "    word_list.append(temp)\n",
    "  for i in range(len(word)):\n",
    "    for j in range(0,26):\n",
    "      temp = word\n",
    "      temp = temp.replace(temp[i], temp[i]+alphabets[j])\n",
    "      word_list.append(temp)\n",
    "      temp = word\n",
    "      temp = temp.replace(temp[i], temp[i]+ alphabets[j].upper())\n",
    "      word_list.append(temp)\n",
    "  return(word_list)\n",
    "      \n",
    "print(gap_perm('abcd'))"
   ]
  },
  {
   "cell_type": "markdown",
   "metadata": {},
   "source": [
    "deletion_perm returns all permutations of an input string by deleting one character"
   ]
  },
  {
   "cell_type": "code",
   "execution_count": 7,
   "metadata": {
    "colab": {
     "base_uri": "https://localhost:8080/",
     "height": 34
    },
    "colab_type": "code",
    "id": "4ZaMsjqzdxXr",
    "outputId": "5f881b95-d0fb-4462-f726-1887851d7cec"
   },
   "outputs": [
    {
     "name": "stdout",
     "output_type": "stream",
     "text": [
      "['bcd', 'acd', 'abd', 'abc']\n"
     ]
    }
   ],
   "source": [
    "def deletion_perm(word):\n",
    "    word_list = []\n",
    "    for i in range(len(word)):\n",
    "        word_list.append(word.replace(word[i],''))\n",
    "    return(word_list)\n",
    "\n",
    "print(deletion_perm('abcd'))"
   ]
  },
  {
   "cell_type": "code",
   "execution_count": 8,
   "metadata": {},
   "outputs": [],
   "source": [
    "def make_weird(str):\n",
    "    for i in range(len(str)):\n",
    "        x = np.random.rand()\n",
    "        if x > 0.5:\n",
    "            str = str[:i] + str[i].swapcase() + str[i+1:]\n",
    "    return str"
   ]
  },
  {
   "cell_type": "code",
   "execution_count": 9,
   "metadata": {
    "colab": {},
    "colab_type": "code",
    "id": "Na4hwuwD1yLW"
   },
   "outputs": [],
   "source": [
    "# Python program to search all \n",
    "# anagrams of a pattern in a text \n",
    "  \n",
    "MAX=256 \n",
    "   \n",
    "def compare(arr1, arr2): \n",
    "    for i in range(MAX): \n",
    "        if arr1[i] != arr2[i]: \n",
    "            return False\n",
    "    return True\n",
    "        \n",
    "def search(pat, txt): \n",
    "  \n",
    "    M = len(pat) \n",
    "    N = len(txt) \n",
    "\n",
    "    countP = [0]*MAX\n",
    "  \n",
    "    countTW = [0]*MAX\n",
    "  \n",
    "    for i in range(M): \n",
    "        (countP[ord(pat[i]) ]) += 1\n",
    "        (countTW[ord(txt[i]) ]) += 1\n",
    "   \n",
    "    for i in range(M,N): \n",
    "\n",
    "        if compare(countP, countTW): \n",
    "            print(\"Found at Index\", (i-M)) \n",
    "  \n",
    "        (countTW[ ord(txt[i]) ]) += 1\n",
    "  \n",
    "        (countTW[ ord(txt[i-M]) ]) -= 1\n",
    "      \n",
    "    if compare(countP, countTW): \n",
    "        print(\"Found at Index\", N-M)"
   ]
  },
  {
   "cell_type": "markdown",
   "metadata": {},
   "source": [
    "This is a list of 22 popular terms in finance. We will find occurrances of these words in all possible forms in some text, like an article. "
   ]
  },
  {
   "cell_type": "code",
   "execution_count": 10,
   "metadata": {},
   "outputs": [
    {
     "name": "stdout",
     "output_type": "stream",
     "text": [
      "22\n"
     ]
    }
   ],
   "source": [
    "terms = ['money','profit','loss','bulls','bears','earnings','revenue','stock','share',\n",
    "         'equities','rich','growth','income','debt','wealth','leverage','scandal','risk',\n",
    "         'competition','margin','dividend','data']\n",
    "print(len(terms))"
   ]
  },
  {
   "cell_type": "code",
   "execution_count": 11,
   "metadata": {},
   "outputs": [],
   "source": [
    "text = '''\n",
    "With trends so far suggest that the Narendra Modi led National Democratic Alliance coming back\n",
    "to power at the centre, it needs to put its act together moneY and address the following pressing\n",
    "concerns at the earliest possible:\n",
    "Slowing economy\n",
    "India’s economic growth fell to its slowest pace in five quarters at 6.6% in December quarter,\n",
    "which prompted the Central Statistics Office to trim its 2018-19 forecast from the 7.2% \n",
    "estimated in January to 7% in February. The first set of macro data Data that the new government \n",
    "will face is on 31 May when the fourth quarter GDP data may show further deceleration to 6.4%.\n",
    "Though there are some signs of investment picking up, government needs to resolve the bad loan\n",
    "cases at a faster pace and banks have to increase lending for investments to pick up.\n",
    "'''"
   ]
  },
  {
   "cell_type": "code",
   "execution_count": 12,
   "metadata": {},
   "outputs": [
    {
     "name": "stdout",
     "output_type": "stream",
     "text": [
      "moneY\n",
      "growth\n",
      "Data\n",
      "data\n"
     ]
    }
   ],
   "source": [
    "for t in terms:\n",
    "    for w in word_perm_case(t):\n",
    "        match = re.search(w,text)\n",
    "        if match:\n",
    "            print(match.group())"
   ]
  },
  {
   "cell_type": "code",
   "execution_count": 13,
   "metadata": {},
   "outputs": [],
   "source": [
    "terms = ['money','profit','loss','bulls','bears','earnings','revenue','stock','share',\n",
    "         'equities','rich','growth','income','debt','wealth','leverage','scandal','risk',\n",
    "         'competition','margin','dividend','data']\n",
    "l = len(terms) \n",
    "for l in range(l):\n",
    "    for w in word_perm_case(terms[l]):\n",
    "        terms.append(w)\n",
    "    for w in onelettr_perm(terms[l]):\n",
    "        terms.append(w)\n",
    "    for w in gap_perm(terms[l]):\n",
    "        terms.append(w)\n",
    "    for w in deletion_perm(terms[l]):\n",
    "        terms.append(w)"
   ]
  },
  {
   "cell_type": "code",
   "execution_count": 14,
   "metadata": {},
   "outputs": [
    {
     "name": "stdout",
     "output_type": "stream",
     "text": [
      "15394\n"
     ]
    }
   ],
   "source": [
    "print (len(terms))"
   ]
  },
  {
   "cell_type": "code",
   "execution_count": 15,
   "metadata": {},
   "outputs": [],
   "source": [
    "terms = set(terms)"
   ]
  },
  {
   "cell_type": "code",
   "execution_count": 16,
   "metadata": {},
   "outputs": [
    {
     "name": "stdout",
     "output_type": "stream",
     "text": [
      "13913\n"
     ]
    }
   ],
   "source": [
    "print (len(terms))"
   ]
  },
  {
   "cell_type": "code",
   "execution_count": 17,
   "metadata": {},
   "outputs": [
    {
     "name": "stdout",
     "output_type": "stream",
     "text": [
      " data \n",
      " moneY \n",
      " growth \n",
      " Data \n"
     ]
    }
   ],
   "source": [
    "for t in terms:\n",
    "    match = re.search('\\s'+t+'\\s',text)\n",
    "    if match:\n",
    "        print(match.group())"
   ]
  },
  {
   "cell_type": "code",
   "execution_count": 18,
   "metadata": {},
   "outputs": [
    {
     "data": {
      "text/plain": [
       "151"
      ]
     },
     "execution_count": 18,
     "metadata": {},
     "output_type": "execute_result"
    }
   ],
   "source": [
    "from nltk.tokenize import word_tokenize\n",
    "words = word_tokenize(text)\n",
    "len(words)"
   ]
  },
  {
   "cell_type": "code",
   "execution_count": 19,
   "metadata": {},
   "outputs": [],
   "source": [
    "text = make_weird(text)"
   ]
  },
  {
   "cell_type": "code",
   "execution_count": 20,
   "metadata": {},
   "outputs": [
    {
     "name": "stdout",
     "output_type": "stream",
     "text": [
      " GRowtH \n",
      " DatA \n",
      " moNey \n",
      " DAtA \n",
      " daTa \n"
     ]
    }
   ],
   "source": [
    "for t in terms:\n",
    "    match = re.search('\\s'+t+'\\s',text)\n",
    "    if match:\n",
    "        print(match.group())"
   ]
  }
 ],
 "metadata": {
  "colab": {
   "collapsed_sections": [],
   "name": "regx.ipynb",
   "provenance": [],
   "version": "0.3.2"
  },
  "kernelspec": {
   "display_name": "Python 3",
   "language": "python",
   "name": "python3"
  },
  "language_info": {
   "codemirror_mode": {
    "name": "ipython",
    "version": 3
   },
   "file_extension": ".py",
   "mimetype": "text/x-python",
   "name": "python",
   "nbconvert_exporter": "python",
   "pygments_lexer": "ipython3",
   "version": "3.7.2"
  }
 },
 "nbformat": 4,
 "nbformat_minor": 1
}
